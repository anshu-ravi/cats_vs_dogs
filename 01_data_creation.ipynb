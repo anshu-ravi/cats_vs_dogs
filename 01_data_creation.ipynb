{
 "cells": [
  {
   "cell_type": "code",
   "execution_count": 1,
   "metadata": {},
   "outputs": [],
   "source": [
    "import os, shutil"
   ]
  },
  {
   "cell_type": "code",
   "execution_count": 2,
   "metadata": {},
   "outputs": [],
   "source": [
    "original_dataset_dir = \"./Data/dogs-vs-cats/\"\n",
    "base_dir = \"./Data/cats_and_dogs_small\"\n",
    "if not os.path.isdir(base_dir): \n",
    "    os.mkdir(base_dir)\n",
    "\n",
    "# Creating train directory \n",
    "train_dir = os.path.join(base_dir, 'train')\n",
    "if not os.path.isdir(train_dir): \n",
    "    os.mkdir(train_dir)\n",
    "\n",
    "# Creating validation directory \n",
    "valid_dir = os.path.join(base_dir, 'valid')\n",
    "if not os.path.isdir(valid_dir): \n",
    "    os.mkdir(valid_dir)\n",
    "\n",
    "# Creating test directory \n",
    "test_dir = os.path.join(base_dir, 'test')\n",
    "if not os.path.isdir(test_dir): \n",
    "    os.mkdir(test_dir)"
   ]
  },
  {
   "cell_type": "code",
   "execution_count": 4,
   "metadata": {},
   "outputs": [],
   "source": [
    "# Creating subdirectories for cats and dogs\n",
    "train_cats_dir = os.path.join(train_dir, 'cats')\n",
    "if not os.path.isdir(train_cats_dir): \n",
    "    os.mkdir(train_cats_dir)\n",
    "\n",
    "train_dogs_dir = os.path.join(train_dir, 'dogs')\n",
    "if not os.path.isdir(train_dogs_dir): \n",
    "    os.mkdir(train_dogs_dir)\n",
    "\n",
    "valid_cats_dir = os.path.join(valid_dir, 'cats')\n",
    "if not os.path.isdir(valid_cats_dir): \n",
    "    os.mkdir(valid_cats_dir)\n",
    "\n",
    "valid_dogs_dir = os.path.join(valid_dir, 'dogs')\n",
    "if not os.path.isdir(valid_dogs_dir): \n",
    "    os.mkdir(valid_dogs_dir)\n",
    "\n",
    "test_cats_dir = os.path.join(test_dir, 'cats')\n",
    "if not os.path.isdir(test_cats_dir): \n",
    "    os.mkdir(test_cats_dir)\n",
    "\n",
    "test_dogs_dir = os.path.join(test_dir, 'dogs')\n",
    "if not os.path.isdir(test_dogs_dir): \n",
    "    os.mkdir(test_dogs_dir)\n"
   ]
  },
  {
   "cell_type": "code",
   "execution_count": 5,
   "metadata": {},
   "outputs": [
    {
     "data": {
      "text/plain": [
       "'./Data/cats_and_dogs_small/train/cats'"
      ]
     },
     "execution_count": 5,
     "metadata": {},
     "output_type": "execute_result"
    }
   ],
   "source": [
    "train_cats_dir"
   ]
  },
  {
   "cell_type": "code",
   "execution_count": 17,
   "metadata": {},
   "outputs": [],
   "source": [
    "for i in range(0,2000):\n",
    "    if i < 1000: \n",
    "        # Cat Pics \n",
    "        src = os.path.join(original_dataset_dir, 'train/train', f'cat.{i}.jpg')\n",
    "        destination = os.path.join(train_cats_dir, f'cat.{i}.jpg')\n",
    "        shutil.copyfile(src, destination)\n",
    "\n",
    "        # Dog Pics \n",
    "        src = os.path.join(original_dataset_dir, 'train/train', f'dog.{i}.jpg')\n",
    "        destination = os.path.join(train_dogs_dir, f'dog.{i}.jpg')\n",
    "        shutil.copyfile(src, destination)\n",
    "    elif i < 1500: \n",
    "        # Cat Pics \n",
    "        src = os.path.join(original_dataset_dir, 'train/train', f'cat.{i}.jpg')\n",
    "        destination = os.path.join(valid_cats_dir, f'cat.{i}.jpg')\n",
    "        shutil.copyfile(src, destination)\n",
    "\n",
    "        # Dog Pics \n",
    "        src = os.path.join(original_dataset_dir, 'train/train', f'dog.{i}.jpg')\n",
    "        destination = os.path.join(valid_dogs_dir, f'dog.{i}.jpg')\n",
    "        shutil.copyfile(src, destination)\n",
    "    elif i < 2000:\n",
    "        # Cat Pics \n",
    "        src = os.path.join(original_dataset_dir, 'train/train', f'cat.{i}.jpg')\n",
    "        destination = os.path.join(test_cats_dir, f'cat.{i}.jpg')\n",
    "        shutil.copyfile(src, destination)\n",
    "\n",
    "        # Dog Pics \n",
    "        src = os.path.join(original_dataset_dir, 'train/train', f'dog.{i}.jpg')\n",
    "        destination = os.path.join(test_dogs_dir, f'dog.{i}.jpg')\n",
    "        shutil.copyfile(src, destination)"
   ]
  },
  {
   "cell_type": "code",
   "execution_count": 20,
   "metadata": {},
   "outputs": [],
   "source": [
    "for i in range(1500,2000): \n",
    "    src = os.path.join(valid_dogs_dir, f'dog.{i}.jpg')\n",
    "    destination = os.path.join(test_dogs_dir, f'dog.{i}.jpg')\n",
    "    shutil.move(src, destination)"
   ]
  },
  {
   "cell_type": "code",
   "execution_count": 21,
   "metadata": {},
   "outputs": [
    {
     "name": "stdout",
     "output_type": "stream",
     "text": [
      "Cats\n",
      "Train = 1000\n",
      "Valid = 500\n",
      "Test = 500\n",
      "\n",
      "Dogs\n",
      "Train = 1000\n",
      "Valid = 500\n",
      "Test = 500\n"
     ]
    }
   ],
   "source": [
    "print('Cats')\n",
    "print(f'Train = {len(os.listdir(train_cats_dir))}')\n",
    "print(f'Valid = {len(os.listdir(valid_cats_dir))}')\n",
    "print(f'Test = {len(os.listdir(test_cats_dir))}')\n",
    "\n",
    "print('\\nDogs')\n",
    "print(f'Train = {len(os.listdir(train_dogs_dir))}')\n",
    "print(f'Valid = {len(os.listdir(valid_dogs_dir))}')\n",
    "print(f'Test = {len(os.listdir(test_dogs_dir))}')"
   ]
  },
  {
   "cell_type": "code",
   "execution_count": null,
   "metadata": {},
   "outputs": [],
   "source": []
  }
 ],
 "metadata": {
  "kernelspec": {
   "display_name": "dl4cv",
   "language": "python",
   "name": "python3"
  },
  "language_info": {
   "codemirror_mode": {
    "name": "ipython",
    "version": 3
   },
   "file_extension": ".py",
   "mimetype": "text/x-python",
   "name": "python",
   "nbconvert_exporter": "python",
   "pygments_lexer": "ipython3",
   "version": "3.9.18"
  },
  "orig_nbformat": 4
 },
 "nbformat": 4,
 "nbformat_minor": 2
}
